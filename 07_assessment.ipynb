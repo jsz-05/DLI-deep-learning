{
 "cells": [
  {
   "cell_type": "markdown",
   "metadata": {},
   "source": [
    "<img src=\"./images/DLI_Header.png\" style=\"width: 0px;\">"
   ]
  },
  {
   "cell_type": "markdown",
   "metadata": {},
   "source": [
    "Classification"
   ]
  },
  {
   "cell_type": "code",
   "execution_count": 50,
   "metadata": {},
   "outputs": [],
   "source": [
    "from tensorflow import keras\n",
    "\n",
    "base_model = keras.applications.VGG16(\n",
    "    weights='imagenet',\n",
    "    input_shape=(224, 224, 3),\n",
    "    include_top=False)"
   ]
  },
  {
   "cell_type": "code",
   "execution_count": 51,
   "metadata": {},
   "outputs": [
    {
     "name": "stdout",
     "output_type": "stream",
     "text": [
      "Model: \"vgg16\"\n",
      "_________________________________________________________________\n",
      "Layer (type)                 Output Shape              Param #   \n",
      "=================================================================\n",
      "input_10 (InputLayer)        [(None, 224, 224, 3)]     0         \n",
      "_________________________________________________________________\n",
      "block1_conv1 (Conv2D)        (None, 224, 224, 64)      1792      \n",
      "_________________________________________________________________\n",
      "block1_conv2 (Conv2D)        (None, 224, 224, 64)      36928     \n",
      "_________________________________________________________________\n",
      "block1_pool (MaxPooling2D)   (None, 112, 112, 64)      0         \n",
      "_________________________________________________________________\n",
      "block2_conv1 (Conv2D)        (None, 112, 112, 128)     73856     \n",
      "_________________________________________________________________\n",
      "block2_conv2 (Conv2D)        (None, 112, 112, 128)     147584    \n",
      "_________________________________________________________________\n",
      "block2_pool (MaxPooling2D)   (None, 56, 56, 128)       0         \n",
      "_________________________________________________________________\n",
      "block3_conv1 (Conv2D)        (None, 56, 56, 256)       295168    \n",
      "_________________________________________________________________\n",
      "block3_conv2 (Conv2D)        (None, 56, 56, 256)       590080    \n",
      "_________________________________________________________________\n",
      "block3_conv3 (Conv2D)        (None, 56, 56, 256)       590080    \n",
      "_________________________________________________________________\n",
      "block3_pool (MaxPooling2D)   (None, 28, 28, 256)       0         \n",
      "_________________________________________________________________\n",
      "block4_conv1 (Conv2D)        (None, 28, 28, 512)       1180160   \n",
      "_________________________________________________________________\n",
      "block4_conv2 (Conv2D)        (None, 28, 28, 512)       2359808   \n",
      "_________________________________________________________________\n",
      "block4_conv3 (Conv2D)        (None, 28, 28, 512)       2359808   \n",
      "_________________________________________________________________\n",
      "block4_pool (MaxPooling2D)   (None, 14, 14, 512)       0         \n",
      "_________________________________________________________________\n",
      "block5_conv1 (Conv2D)        (None, 14, 14, 512)       2359808   \n",
      "_________________________________________________________________\n",
      "block5_conv2 (Conv2D)        (None, 14, 14, 512)       2359808   \n",
      "_________________________________________________________________\n",
      "block5_conv3 (Conv2D)        (None, 14, 14, 512)       2359808   \n",
      "_________________________________________________________________\n",
      "block5_pool (MaxPooling2D)   (None, 7, 7, 512)         0         \n",
      "=================================================================\n",
      "Total params: 14,714,688\n",
      "Trainable params: 14,714,688\n",
      "Non-trainable params: 0\n",
      "_________________________________________________________________\n"
     ]
    }
   ],
   "source": [
    "base_model.summary()"
   ]
  },
  {
   "cell_type": "markdown",
   "metadata": {},
   "source": [
    "## Freeze Base Model"
   ]
  },
  {
   "cell_type": "code",
   "execution_count": 52,
   "metadata": {},
   "outputs": [],
   "source": [
    "# Freeze base model\n",
    "base_model.trainable = False"
   ]
  },
  {
   "cell_type": "markdown",
   "metadata": {},
   "source": [
    "## Add Layers to Model"
   ]
  },
  {
   "cell_type": "code",
   "execution_count": 53,
   "metadata": {},
   "outputs": [],
   "source": [
    "# Create inputs with correct shape\n",
    "inputs = keras.Input(shape=(224, 224, 3))\n",
    "\n",
    "x = base_model(inputs, training=False)\n",
    "\n",
    "# Add pooling layer or flatten layer\n",
    "x = keras.layers.GlobalAveragePooling2D()(x)\n",
    "\n",
    "# Add final dense layer\n",
    "outputs = keras.layers.Dense(6, activation = 'softmax')(x)\n",
    "\n",
    "# Combine inputs and outputs to create model\n",
    "model = keras.Model(inputs, outputs)"
   ]
  },
  {
   "cell_type": "code",
   "execution_count": 54,
   "metadata": {},
   "outputs": [
    {
     "name": "stdout",
     "output_type": "stream",
     "text": [
      "Model: \"model_5\"\n",
      "_________________________________________________________________\n",
      "Layer (type)                 Output Shape              Param #   \n",
      "=================================================================\n",
      "input_11 (InputLayer)        [(None, 224, 224, 3)]     0         \n",
      "_________________________________________________________________\n",
      "vgg16 (Model)                (None, 7, 7, 512)         14714688  \n",
      "_________________________________________________________________\n",
      "global_average_pooling2d_6 ( (None, 512)               0         \n",
      "_________________________________________________________________\n",
      "dense_5 (Dense)              (None, 6)                 3078      \n",
      "=================================================================\n",
      "Total params: 14,717,766\n",
      "Trainable params: 3,078\n",
      "Non-trainable params: 14,714,688\n",
      "_________________________________________________________________\n"
     ]
    }
   ],
   "source": [
    "model.summary()"
   ]
  },
  {
   "cell_type": "markdown",
   "metadata": {},
   "source": [
    "## Compile Model"
   ]
  },
  {
   "cell_type": "code",
   "execution_count": 55,
   "metadata": {},
   "outputs": [],
   "source": [
    "model.compile(loss=keras.losses.BinaryCrossentropy(from_logits=True), \n",
    "              metrics=[keras.metrics.BinaryAccuracy()])"
   ]
  },
  {
   "cell_type": "markdown",
   "metadata": {},
   "source": [
    "## Augment the Data"
   ]
  },
  {
   "cell_type": "code",
   "execution_count": 56,
   "metadata": {},
   "outputs": [],
   "source": [
    "from tensorflow.keras.preprocessing.image import ImageDataGenerator\n",
    "transformation_ratio = 0.05\n",
    "datagen = ImageDataGenerator(rescale=1. / 255,\n",
    "                             validation_split = 0.2,\n",
    "                             rotation_range=transformation_ratio,\n",
    "                             shear_range=transformation_ratio,\n",
    "                             zoom_range=transformation_ratio,\n",
    "                             cval=transformation_ratio,\n",
    "                             horizontal_flip=True,\n",
    "                             vertical_flip=True)\n"
   ]
  },
  {
   "cell_type": "markdown",
   "metadata": {},
   "source": [
    "## Load Dataset"
   ]
  },
  {
   "cell_type": "code",
   "execution_count": 57,
   "metadata": {},
   "outputs": [
    {
     "name": "stdout",
     "output_type": "stream",
     "text": [
      "Found 1182 images belonging to 6 classes.\n",
      "Found 329 images belonging to 6 classes.\n"
     ]
    }
   ],
   "source": [
    "# load and iterate training dataset\n",
    "train_it = datagen.flow_from_directory('data/fruits/train/', \n",
    "                                       target_size=(224, 224), \n",
    "                                       color_mode='rgb', \n",
    "                                       class_mode=\"categorical\")\n",
    "# load and iterate validation dataset\n",
    "valid_it = datagen.flow_from_directory('data/fruits/valid/', \n",
    "                                      target_size=(224, 224), \n",
    "                                      color_mode='rgb', \n",
    "                                      class_mode=\"categorical\")"
   ]
  },
  {
   "cell_type": "markdown",
   "metadata": {},
   "source": [
    "## Train the Model"
   ]
  },
  {
   "cell_type": "code",
   "execution_count": 58,
   "metadata": {},
   "outputs": [
    {
     "name": "stdout",
     "output_type": "stream",
     "text": [
      "Epoch 1/16\n",
      "37/36 [==============================] - 19s 501ms/step - loss: 0.7465 - binary_accuracy: 0.8376 - val_loss: 0.7406 - val_binary_accuracy: 0.8399\n",
      "Epoch 2/16\n",
      "37/36 [==============================] - 18s 499ms/step - loss: 0.7371 - binary_accuracy: 0.8481 - val_loss: 0.7311 - val_binary_accuracy: 0.8566\n",
      "Epoch 3/16\n",
      "37/36 [==============================] - 19s 502ms/step - loss: 0.7293 - binary_accuracy: 0.8589 - val_loss: 0.7247 - val_binary_accuracy: 0.8708\n",
      "Epoch 4/16\n",
      "37/36 [==============================] - 18s 496ms/step - loss: 0.7221 - binary_accuracy: 0.8766 - val_loss: 0.7180 - val_binary_accuracy: 0.8779\n",
      "Epoch 5/16\n",
      "37/36 [==============================] - 19s 501ms/step - loss: 0.7166 - binary_accuracy: 0.8837 - val_loss: 0.7113 - val_binary_accuracy: 0.8911\n",
      "Epoch 6/16\n",
      "37/36 [==============================] - 18s 498ms/step - loss: 0.7108 - binary_accuracy: 0.8921 - val_loss: 0.7065 - val_binary_accuracy: 0.8982\n",
      "Epoch 7/16\n",
      "37/36 [==============================] - 18s 496ms/step - loss: 0.7067 - binary_accuracy: 0.8937 - val_loss: 0.7010 - val_binary_accuracy: 0.9032\n",
      "Epoch 8/16\n",
      "37/36 [==============================] - 18s 496ms/step - loss: 0.7017 - binary_accuracy: 0.9023 - val_loss: 0.7003 - val_binary_accuracy: 0.8982\n",
      "Epoch 9/16\n",
      "37/36 [==============================] - 18s 498ms/step - loss: 0.6981 - binary_accuracy: 0.9085 - val_loss: 0.6946 - val_binary_accuracy: 0.9134\n",
      "Epoch 10/16\n",
      "37/36 [==============================] - 18s 499ms/step - loss: 0.6942 - binary_accuracy: 0.9172 - val_loss: 0.6945 - val_binary_accuracy: 0.9119\n",
      "Epoch 11/16\n",
      "37/36 [==============================] - 18s 490ms/step - loss: 0.6915 - binary_accuracy: 0.9220 - val_loss: 0.6892 - val_binary_accuracy: 0.9205\n",
      "Epoch 12/16\n",
      "37/36 [==============================] - 18s 499ms/step - loss: 0.6886 - binary_accuracy: 0.9288 - val_loss: 0.6876 - val_binary_accuracy: 0.9245\n",
      "Epoch 13/16\n",
      "37/36 [==============================] - 19s 500ms/step - loss: 0.6855 - binary_accuracy: 0.9349 - val_loss: 0.6847 - val_binary_accuracy: 0.9331\n",
      "Epoch 14/16\n",
      "37/36 [==============================] - 18s 499ms/step - loss: 0.6834 - binary_accuracy: 0.9392 - val_loss: 0.6832 - val_binary_accuracy: 0.9372\n",
      "Epoch 15/16\n",
      "37/36 [==============================] - 19s 502ms/step - loss: 0.6813 - binary_accuracy: 0.9423 - val_loss: 0.6818 - val_binary_accuracy: 0.9417\n",
      "Epoch 16/16\n",
      "37/36 [==============================] - 18s 499ms/step - loss: 0.6796 - binary_accuracy: 0.9459 - val_loss: 0.6775 - val_binary_accuracy: 0.9504\n"
     ]
    },
    {
     "data": {
      "text/plain": [
       "<tensorflow.python.keras.callbacks.History at 0x7efda00c8240>"
      ]
     },
     "execution_count": 58,
     "metadata": {},
     "output_type": "execute_result"
    }
   ],
   "source": [
    "model.fit(train_it,\n",
    "          validation_data=valid_it,\n",
    "          steps_per_epoch=train_it.samples/train_it.batch_size,\n",
    "          validation_steps=valid_it.samples/valid_it.batch_size,\n",
    "          epochs=16)"
   ]
  },
  {
   "cell_type": "markdown",
   "metadata": {},
   "source": [
    "## Unfreeze Model for Fine Tuning"
   ]
  },
  {
   "cell_type": "code",
   "execution_count": 59,
   "metadata": {},
   "outputs": [],
   "source": [
    "# Unfreeze the base model\n",
    "base_model.trainable = True\n",
    "\n",
    "# Compile the model with a low learning rate\n",
    "model.compile(optimizer=keras.optimizers.RMSprop(learning_rate = .00001),  # Very low learning rate\n",
    "              loss=keras.losses.BinaryCrossentropy(from_logits=True),\n",
    "              metrics=[keras.metrics.BinaryAccuracy()])"
   ]
  },
  {
   "cell_type": "code",
   "execution_count": 61,
   "metadata": {},
   "outputs": [
    {
     "name": "stdout",
     "output_type": "stream",
     "text": [
      "Epoch 1/12\n",
      "37/36 [==============================] - 20s 533ms/step - loss: 0.6325 - binary_accuracy: 0.9955 - val_loss: 0.6337 - val_binary_accuracy: 0.9939\n",
      "Epoch 2/12\n",
      "37/36 [==============================] - 20s 534ms/step - loss: 0.6320 - binary_accuracy: 0.9966 - val_loss: 0.6338 - val_binary_accuracy: 0.9919\n",
      "Epoch 3/12\n",
      "37/36 [==============================] - 20s 529ms/step - loss: 0.6318 - binary_accuracy: 0.9966 - val_loss: 0.6339 - val_binary_accuracy: 0.9939\n",
      "Epoch 4/12\n",
      "37/36 [==============================] - 20s 545ms/step - loss: 0.6315 - binary_accuracy: 0.9969 - val_loss: 0.6332 - val_binary_accuracy: 0.9949\n",
      "Epoch 5/12\n",
      "37/36 [==============================] - 20s 527ms/step - loss: 0.6308 - binary_accuracy: 0.9983 - val_loss: 0.6335 - val_binary_accuracy: 0.9929\n",
      "Epoch 6/12\n",
      "37/36 [==============================] - 20s 531ms/step - loss: 0.6317 - binary_accuracy: 0.9968 - val_loss: 0.6330 - val_binary_accuracy: 0.9949\n",
      "Epoch 7/12\n",
      "37/36 [==============================] - 20s 542ms/step - loss: 0.6300 - binary_accuracy: 0.9997 - val_loss: 0.6336 - val_binary_accuracy: 0.9919\n",
      "Epoch 8/12\n",
      "37/36 [==============================] - 20s 529ms/step - loss: 0.6316 - binary_accuracy: 0.9969 - val_loss: 0.6320 - val_binary_accuracy: 0.9980\n",
      "Epoch 9/12\n",
      "37/36 [==============================] - 19s 526ms/step - loss: 0.6309 - binary_accuracy: 0.9980 - val_loss: 0.6344 - val_binary_accuracy: 0.9889\n",
      "Epoch 10/12\n",
      "37/36 [==============================] - 20s 532ms/step - loss: 0.6308 - binary_accuracy: 0.9989 - val_loss: 0.6367 - val_binary_accuracy: 0.9868\n",
      "Epoch 11/12\n",
      "37/36 [==============================] - 20s 536ms/step - loss: 0.6304 - binary_accuracy: 0.9992 - val_loss: 0.6330 - val_binary_accuracy: 0.9949\n",
      "Epoch 12/12\n",
      "37/36 [==============================] - 20s 544ms/step - loss: 0.6307 - binary_accuracy: 0.9986 - val_loss: 0.6352 - val_binary_accuracy: 0.9909\n"
     ]
    },
    {
     "data": {
      "text/plain": [
       "<tensorflow.python.keras.callbacks.History at 0x7efec1175710>"
      ]
     },
     "execution_count": 61,
     "metadata": {},
     "output_type": "execute_result"
    }
   ],
   "source": [
    "model.fit(train_it,\n",
    "          validation_data=valid_it,\n",
    "          steps_per_epoch=train_it.samples/train_it.batch_size,\n",
    "          validation_steps=valid_it.samples/valid_it.batch_size,\n",
    "          epochs=12)"
   ]
  },
  {
   "cell_type": "code",
   "execution_count": 62,
   "metadata": {},
   "outputs": [
    {
     "name": "stdout",
     "output_type": "stream",
     "text": [
      "11/10 [================================] - 4s 323ms/step - loss: 0.6368 - binary_accuracy: 0.9868\n"
     ]
    },
    {
     "data": {
      "text/plain": [
       "[0.6368132829666138, 0.9868288636207581]"
      ]
     },
     "execution_count": 62,
     "metadata": {},
     "output_type": "execute_result"
    }
   ],
   "source": [
    "model.evaluate(valid_it, steps=valid_it.samples/valid_it.batch_size)"
   ]
  },
  {
   "cell_type": "markdown",
   "metadata": {},
   "source": [
    "## Run the Assessment"
   ]
  },
  {
   "cell_type": "code",
   "execution_count": 63,
   "metadata": {},
   "outputs": [],
   "source": [
    "from run_assessment import run_assessment"
   ]
  },
  {
   "cell_type": "code",
   "execution_count": 64,
   "metadata": {},
   "outputs": [
    {
     "name": "stdout",
     "output_type": "stream",
     "text": [
      "Evaluating model 5 times to obtain average accuracy...\n",
      "\n",
      "11/10 [================================] - 4s 326ms/step - loss: 0.6352 - binary_accuracy: 0.9883\n",
      "11/10 [================================] - 4s 327ms/step - loss: 0.6365 - binary_accuracy: 0.9873\n",
      "11/10 [================================] - 4s 362ms/step - loss: 0.6357 - binary_accuracy: 0.9889\n",
      "11/10 [================================] - 4s 320ms/step - loss: 0.6362 - binary_accuracy: 0.9894\n",
      "11/10 [================================] - 4s 336ms/step - loss: 0.6360 - binary_accuracy: 0.9899\n",
      "\n",
      "Accuracy required to pass the assessment is 0.92 or greater.\n",
      "Your average accuracy is 0.9888.\n",
      "\n",
      "Congratulations! You passed the assessment!\n",
      "See instructions below to generate a certificate.\n"
     ]
    }
   ],
   "source": [
    "run_assessment(model, valid_it)"
   ]
  }
 ],
 "metadata": {
  "kernelspec": {
   "display_name": "Python 3",
   "language": "python",
   "name": "python3"
  },
  "language_info": {
   "codemirror_mode": {
    "name": "ipython",
    "version": 3
   },
   "file_extension": ".py",
   "mimetype": "text/x-python",
   "name": "python",
   "nbconvert_exporter": "python",
   "pygments_lexer": "ipython3",
   "version": "3.6.9"
  }
 },
 "nbformat": 4,
 "nbformat_minor": 4
}
